{
 "cells": [
  {
   "cell_type": "code",
   "execution_count": 169,
   "metadata": {},
   "outputs": [],
   "source": [
    "import requests\n",
    "from selenium import webdriver\n",
    "from selenium.webdriver.chrome.service import Service\n",
    "from selenium.common.exceptions import NoSuchElementException\n",
    "from selenium.common.exceptions import StaleElementReferenceException\n",
    "from selenium.webdriver.support.ui import WebDriverWait\n",
    "from selenium.webdriver.support import expected_conditions\n",
    "from selenium.webdriver.common.by import By\n",
    "from selenium.webdriver.common.keys import Keys\n",
    "from selenium.webdriver.common.action_chains import ActionChains\n",
    "import time\n",
    "import sqlite3\n",
    "import pandas as pd"
   ]
  },
  {
   "cell_type": "code",
   "execution_count": 15,
   "metadata": {},
   "outputs": [],
   "source": [
    "def highlight(element, color, border):\n",
    "    driver = element._parent\n",
    "    def apply_style(s):\n",
    "        driver.execute_script(\"arguments[0].setAttribute('style', arguments[1]);\", element, s)\n",
    "    original_style = element.get_attribute('style')\n",
    "    apply_style(\"border: {0}px solid {1};\".format(border, color))\n",
    "    time.sleep(0.1)\n",
    "    apply_style(original_style)"
   ]
  },
  {
   "cell_type": "code",
   "execution_count": 162,
   "metadata": {},
   "outputs": [
    {
     "data": {
      "text/plain": [
       "<sqlite3.Cursor at 0x106630f40>"
      ]
     },
     "execution_count": 162,
     "metadata": {},
     "output_type": "execute_result"
    }
   ],
   "source": [
    "conn = sqlite3.connect(\"pokemon.db\")\n",
    "\n",
    "cur = conn.cursor()\n",
    "\n",
    "cur.execute(\"\"\"CREATE TABLE poke_info(\n",
    "    name TEXT,\n",
    "    usage TEXT\n",
    "    type1 TEXT,\n",
    "    type2 TEXT,\n",
    "    BST integer,\n",
    "    HP integer,\n",
    "    ATK integer,\n",
    "    DEF integer,\n",
    "    SPA integer,\n",
    "    SPD integer,\n",
    "    SPE integer,\n",
    "    item TEXT,\n",
    "    fill text\n",
    ")\"\"\")"
   ]
  },
  {
   "cell_type": "code",
   "execution_count": 163,
   "metadata": {},
   "outputs": [],
   "source": [
    "PATH = '/Users/prathiamo/Coding_classes/STAT_4185/git_github/STAT4185_Final_Project/chromedriver-mac-x64/chromedriver'\n",
    "services = Service(PATH)\n",
    "driver = webdriver.Chrome(service=services)\n",
    "driver.get('https://pokestats.pucko.info/pokeStats/?format=gen9ou&time=month')"
   ]
  },
  {
   "cell_type": "code",
   "execution_count": 110,
   "metadata": {},
   "outputs": [],
   "source": [
    "#TEST BLOCKS ^ and this one\n",
    "\n",
    "lst = []\n",
    "row = driver.find_element(By.CSS_SELECTOR, \"tr:nth-child(9) td , tr:nth-child(9) td+ td .button\")\n",
    "highlight(row, \"red\", 5)\n",
    "poke_link = row.find_element(By.CSS_SELECTOR, \"a\")\n",
    "highlight(poke_link, \"red\", 5)\n",
    "poke_link.click()\n",
    "\n",
    "poke_name = driver.find_element(By.CSS_SELECTOR, \".box div:nth-child(1) h3:nth-child(1)\")\n",
    "lst.append(poke_name.text)\n",
    "\n",
    "usage = driver.find_element(By.CSS_SELECTOR, \"#main_image~ h3\")\n",
    "highlight(usage, \"red\", 5)\n",
    "lst.append(usage.text)\n",
    "\n",
    "type_list = [\"Normal\", \"Water\", \"Fire\", \"Grass\", \"Electric\", \"Fighting\", \"Flying\", \"Bug\", \"Rock\", \"Ground\", \"Poison\", \"Psychic\", \"Dark\", \"Ghost\", \"Ice\", \"Dragon\", \"Steel\", \"Fairy\"]\n",
    "    \n",
    "type1_raw = driver.find_element(By.CSS_SELECTOR, \"h3+ p:nth-child(2)\")\n",
    "highlight(type1_raw, \"red\", 5)\n",
    "lst.append(type1_raw.text)\n",
    "\n",
    "type2_raw = driver.find_element(By.CSS_SELECTOR, \".box div div div div:nth-child(2) p~ p+ p\")\n",
    "highlight(type2_raw, \"red\", 5)\n",
    "if type2_raw.text in type_list: \n",
    "    lst.append(type2_raw.text)\n",
    "else:\n",
    "    lst.append(\"None\")\n",
    "    \n",
    "stats = driver.find_elements(By.CSS_SELECTOR, \"div:nth-child(4) p\")\n",
    "for stat in stats:\n",
    "    highlight(stat, \"red\", 5)\n",
    "    lst.append(stat.text)\n",
    "    \n",
    "top_item = driver.find_element(By.CSS_SELECTOR, \".table-data+ .table-data tr:nth-child(1) td:nth-child(2)\")\n",
    "highlight(top_item, \"red\", 5)\n",
    "lst.append(top_item.text)\n"
   ]
  },
  {
   "cell_type": "code",
   "execution_count": 87,
   "metadata": {},
   "outputs": [],
   "source": [
    "#TEST BLOCK\n",
    "lst = [] \n",
    "poke_name = driver.find_element(By.CSS_SELECTOR, \".box div:nth-child(1) h3:nth-child(1)\")\n",
    "lst.append(poke_name.text)\n",
    "\n",
    "usage = driver.find_element(By.CSS_SELECTOR, \"#main_image~ h3\")\n",
    "highlight(usage, \"red\", 5)\n",
    "lst.append(usage.text)\n",
    "\n",
    "type_list = [\"Normal\", \"Water\", \"Fire\", \"Grass\", \"Electric\", \"Fighting\", \"Flying\", \"Bug\", \"Rock\", \"Ground\", \"Poison\", \"Psychic\", \"Dark\", \"Ghost\", \"Ice\", \"Dragon\", \"Steel\", \"Fairy\"]\n",
    "    \n",
    "type1_raw = driver.find_element(By.CSS_SELECTOR, \"h3+ p:nth-child(2)\")\n",
    "highlight(type1_raw, \"red\", 5)\n",
    "lst.append(type1_raw.text)\n",
    "\n",
    "type2_raw = driver.find_element(By.CSS_SELECTOR, \".box div div div div:nth-child(2) p~ p+ p\")\n",
    "highlight(type2_raw, \"red\", 5)\n",
    "if type2_raw.text in type_list: \n",
    "    lst.append(type2_raw.text)\n",
    "else:\n",
    "    lst.append(\"None\")\n",
    "    \n",
    "stats = driver.find_elements(By.CSS_SELECTOR, \"div:nth-child(4) p\")\n",
    "for stat in stats:\n",
    "    highlight(stat, \"red\", 5)\n",
    "    lst.append(stat.text)\n",
    "\n",
    "top_item = driver.find_element(By.CSS_SELECTOR, \".table-data+ .table-data tr:nth-child(1) td:nth-child(2)\")\n",
    "highlight(top_item, \"red\", 5)\n",
    "lst.append(top_item.text)\n",
    "    "
   ]
  },
  {
   "cell_type": "code",
   "execution_count": 111,
   "metadata": {},
   "outputs": [
    {
     "data": {
      "text/plain": [
       "['Cinderace',\n",
       " '54924 Teams',\n",
       " 'Fire',\n",
       " 'None',\n",
       " '530',\n",
       " '80',\n",
       " '116',\n",
       " '75',\n",
       " '65',\n",
       " '75',\n",
       " '119',\n",
       " 'Heavy_Duty_Boots']"
      ]
     },
     "execution_count": 111,
     "metadata": {},
     "output_type": "execute_result"
    }
   ],
   "source": [
    "lst"
   ]
  },
  {
   "cell_type": "code",
   "execution_count": 165,
   "metadata": {},
   "outputs": [],
   "source": [
    "def get_all_info(selector, poke_list):\n",
    "    temp_lst = []\n",
    "    row = driver.find_element(By.CSS_SELECTOR, selector)\n",
    "    highlight(row, \"red\", 5)\n",
    "    poke_link = row.find_element(By.CSS_SELECTOR, \"a\")\n",
    "\n",
    "    poke_link.click()\n",
    "    \n",
    "    poke_name = driver.find_element(By.CSS_SELECTOR, \".box div:nth-child(1) h3:nth-child(1)\")\n",
    "    highlight(poke_name, \"red\", 5)\n",
    "    if poke_name.text == \"Walking_Wake\":\n",
    "        driver.back()\n",
    "        return\n",
    "    temp_lst.append(poke_name.text)\n",
    "    \n",
    "    \n",
    "    usage = driver.find_element(By.CSS_SELECTOR, \"#main_image~ h3\")\n",
    "    highlight(usage, \"red\", 5)\n",
    "    temp_lst.append(usage.text)\n",
    "    \n",
    "    type_list = [\"Normal\", \"Water\", \"Fire\", \"Grass\", \"Electric\", \"Fighting\", \"Flying\", \"Bug\", \"Rock\", \"Ground\", \"Poison\", \"Psychic\", \"Dark\", \"Ghost\", \"Ice\", \"Dragon\", \"Steel\", \"Fairy\"]\n",
    "    \n",
    "    type1_raw = driver.find_element(By.CSS_SELECTOR, \"h3+ p:nth-child(2)\")\n",
    "    highlight(type1_raw, \"red\", 5)\n",
    "    temp_lst.append(type1_raw.text)\n",
    "\n",
    "    type2_raw = driver.find_element(By.CSS_SELECTOR, \".box div div div div:nth-child(2) p~ p+ p\")\n",
    "    highlight(type2_raw, \"red\", 5)\n",
    "    if type2_raw.text in type_list: \n",
    "        temp_lst.append(type2_raw.text)\n",
    "    else:\n",
    "        temp_lst.append(\"None\")\n",
    "\n",
    "    stats = driver.find_elements(By.CSS_SELECTOR, \"div:nth-child(4) p\")\n",
    "    for stat in stats:\n",
    "        highlight(stat, \"red\", 5)\n",
    "        temp_lst.append(stat.text)\n",
    "\n",
    "    top_item = driver.find_element(By.CSS_SELECTOR, \".table-data+ .table-data tr:nth-child(1) td:nth-child(2)\")\n",
    "    highlight(top_item, \"red\", 5)\n",
    "    temp_lst.append(top_item.text)\n",
    "    \n",
    "    poke_list.append(tuple(temp_lst))\n",
    "    driver.back()\n",
    "    return"
   ]
  },
  {
   "cell_type": "code",
   "execution_count": 167,
   "metadata": {},
   "outputs": [
    {
     "ename": "KeyboardInterrupt",
     "evalue": "",
     "output_type": "error",
     "traceback": [
      "\u001b[0;31m---------------------------------------------------------------------------\u001b[0m",
      "\u001b[0;31mKeyboardInterrupt\u001b[0m                         Traceback (most recent call last)",
      "Cell \u001b[0;32mIn[167], line 8\u001b[0m\n\u001b[1;32m      6\u001b[0m \u001b[38;5;28;01mfor\u001b[39;00m i \u001b[38;5;129;01min\u001b[39;00m \u001b[38;5;28mrange\u001b[39m(\u001b[38;5;241m1\u001b[39m, \u001b[38;5;241m100\u001b[39m):\n\u001b[1;32m      7\u001b[0m     selector \u001b[38;5;241m=\u001b[39m \u001b[38;5;124m\"\u001b[39m\u001b[38;5;124mtr:nth-child(\u001b[39m\u001b[38;5;124m\"\u001b[39m \u001b[38;5;241m+\u001b[39m \u001b[38;5;28mstr\u001b[39m(i) \u001b[38;5;241m+\u001b[39m \u001b[38;5;124m\"\u001b[39m\u001b[38;5;124m) td , tr:nth-child(\u001b[39m\u001b[38;5;124m\"\u001b[39m \u001b[38;5;241m+\u001b[39m \u001b[38;5;28mstr\u001b[39m(i) \u001b[38;5;241m+\u001b[39m \u001b[38;5;124m\"\u001b[39m\u001b[38;5;124m) td+ td .button\u001b[39m\u001b[38;5;124m\"\u001b[39m\n\u001b[0;32m----> 8\u001b[0m     get_all_info(selector, poke_list)\n\u001b[1;32m      9\u001b[0m     target \u001b[38;5;241m=\u001b[39m driver\u001b[38;5;241m.\u001b[39mfind_element(By\u001b[38;5;241m.\u001b[39mCSS_SELECTOR,\u001b[38;5;124m\"\u001b[39m\u001b[38;5;124mtd\u001b[39m\u001b[38;5;124m\"\u001b[39m)\n\u001b[1;32m     10\u001b[0m     time\u001b[38;5;241m.\u001b[39msleep(\u001b[38;5;241m2\u001b[39m)\n",
      "Cell \u001b[0;32mIn[165], line 24\u001b[0m, in \u001b[0;36mget_all_info\u001b[0;34m(selector, poke_list)\u001b[0m\n\u001b[1;32m     21\u001b[0m type_list \u001b[38;5;241m=\u001b[39m [\u001b[38;5;124m\"\u001b[39m\u001b[38;5;124mNormal\u001b[39m\u001b[38;5;124m\"\u001b[39m, \u001b[38;5;124m\"\u001b[39m\u001b[38;5;124mWater\u001b[39m\u001b[38;5;124m\"\u001b[39m, \u001b[38;5;124m\"\u001b[39m\u001b[38;5;124mFire\u001b[39m\u001b[38;5;124m\"\u001b[39m, \u001b[38;5;124m\"\u001b[39m\u001b[38;5;124mGrass\u001b[39m\u001b[38;5;124m\"\u001b[39m, \u001b[38;5;124m\"\u001b[39m\u001b[38;5;124mElectric\u001b[39m\u001b[38;5;124m\"\u001b[39m, \u001b[38;5;124m\"\u001b[39m\u001b[38;5;124mFighting\u001b[39m\u001b[38;5;124m\"\u001b[39m, \u001b[38;5;124m\"\u001b[39m\u001b[38;5;124mFlying\u001b[39m\u001b[38;5;124m\"\u001b[39m, \u001b[38;5;124m\"\u001b[39m\u001b[38;5;124mBug\u001b[39m\u001b[38;5;124m\"\u001b[39m, \u001b[38;5;124m\"\u001b[39m\u001b[38;5;124mRock\u001b[39m\u001b[38;5;124m\"\u001b[39m, \u001b[38;5;124m\"\u001b[39m\u001b[38;5;124mGround\u001b[39m\u001b[38;5;124m\"\u001b[39m, \u001b[38;5;124m\"\u001b[39m\u001b[38;5;124mPoison\u001b[39m\u001b[38;5;124m\"\u001b[39m, \u001b[38;5;124m\"\u001b[39m\u001b[38;5;124mPsychic\u001b[39m\u001b[38;5;124m\"\u001b[39m, \u001b[38;5;124m\"\u001b[39m\u001b[38;5;124mDark\u001b[39m\u001b[38;5;124m\"\u001b[39m, \u001b[38;5;124m\"\u001b[39m\u001b[38;5;124mGhost\u001b[39m\u001b[38;5;124m\"\u001b[39m, \u001b[38;5;124m\"\u001b[39m\u001b[38;5;124mIce\u001b[39m\u001b[38;5;124m\"\u001b[39m, \u001b[38;5;124m\"\u001b[39m\u001b[38;5;124mDragon\u001b[39m\u001b[38;5;124m\"\u001b[39m, \u001b[38;5;124m\"\u001b[39m\u001b[38;5;124mSteel\u001b[39m\u001b[38;5;124m\"\u001b[39m, \u001b[38;5;124m\"\u001b[39m\u001b[38;5;124mFairy\u001b[39m\u001b[38;5;124m\"\u001b[39m]\n\u001b[1;32m     23\u001b[0m type1_raw \u001b[38;5;241m=\u001b[39m driver\u001b[38;5;241m.\u001b[39mfind_element(By\u001b[38;5;241m.\u001b[39mCSS_SELECTOR, \u001b[38;5;124m\"\u001b[39m\u001b[38;5;124mh3+ p:nth-child(2)\u001b[39m\u001b[38;5;124m\"\u001b[39m)\n\u001b[0;32m---> 24\u001b[0m highlight(type1_raw, \u001b[38;5;124m\"\u001b[39m\u001b[38;5;124mred\u001b[39m\u001b[38;5;124m\"\u001b[39m, \u001b[38;5;241m5\u001b[39m)\n\u001b[1;32m     25\u001b[0m temp_lst\u001b[38;5;241m.\u001b[39mappend(type1_raw\u001b[38;5;241m.\u001b[39mtext)\n\u001b[1;32m     27\u001b[0m type2_raw \u001b[38;5;241m=\u001b[39m driver\u001b[38;5;241m.\u001b[39mfind_element(By\u001b[38;5;241m.\u001b[39mCSS_SELECTOR, \u001b[38;5;124m\"\u001b[39m\u001b[38;5;124m.box div div div div:nth-child(2) p~ p+ p\u001b[39m\u001b[38;5;124m\"\u001b[39m)\n",
      "Cell \u001b[0;32mIn[15], line 7\u001b[0m, in \u001b[0;36mhighlight\u001b[0;34m(element, color, border)\u001b[0m\n\u001b[1;32m      5\u001b[0m original_style \u001b[38;5;241m=\u001b[39m element\u001b[38;5;241m.\u001b[39mget_attribute(\u001b[38;5;124m'\u001b[39m\u001b[38;5;124mstyle\u001b[39m\u001b[38;5;124m'\u001b[39m)\n\u001b[1;32m      6\u001b[0m apply_style(\u001b[38;5;124m\"\u001b[39m\u001b[38;5;124mborder: \u001b[39m\u001b[38;5;132;01m{0}\u001b[39;00m\u001b[38;5;124mpx solid \u001b[39m\u001b[38;5;132;01m{1}\u001b[39;00m\u001b[38;5;124m;\u001b[39m\u001b[38;5;124m\"\u001b[39m\u001b[38;5;241m.\u001b[39mformat(border, color))\n\u001b[0;32m----> 7\u001b[0m time\u001b[38;5;241m.\u001b[39msleep(\u001b[38;5;241m0.1\u001b[39m)\n\u001b[1;32m      8\u001b[0m apply_style(original_style)\n",
      "\u001b[0;31mKeyboardInterrupt\u001b[0m: "
     ]
    }
   ],
   "source": [
    "action = ActionChains(driver)\n",
    "\n",
    "poke_list = []\n",
    "\n",
    "\n",
    "for i in range(1, 100):\n",
    "    selector = \"tr:nth-child(\" + str(i) + \") td , tr:nth-child(\" + str(i) + \") td+ td .button\"\n",
    "    get_all_info(selector, poke_list)\n",
    "    target = driver.find_element(By.CSS_SELECTOR,\"td\")\n",
    "    time.sleep(2)\n",
    "\n",
    "cur.executemany(\"INSERT INTO poke_info VALUES (?,?,?,?,?,?,?,?,?,?,?,?)\", poke_list,)\n",
    "conn.commit()\n",
    "conn.close()\n",
    "time.sleep(2)\n",
    "\n",
    "driver.close()\n"
   ]
  },
  {
   "cell_type": "code",
   "execution_count": null,
   "metadata": {},
   "outputs": [],
   "source": []
  },
  {
   "cell_type": "code",
   "execution_count": null,
   "metadata": {},
   "outputs": [],
   "source": []
  },
  {
   "cell_type": "code",
   "execution_count": 9,
   "metadata": {},
   "outputs": [
    {
     "data": {
      "text/plain": [
       "200"
      ]
     },
     "execution_count": 9,
     "metadata": {},
     "output_type": "execute_result"
    }
   ],
   "source": [
    "pokestats = requests.get(\"https://pokestats.pucko.info/pokeStats/?format=gen9ou&time=month\")\n",
    "pokestats.status_code"
   ]
  },
  {
   "cell_type": "code",
   "execution_count": 10,
   "metadata": {},
   "outputs": [],
   "source": [
    "pokeSoup = bs(pokestats.content, \"html.parser\")"
   ]
  },
  {
   "cell_type": "code",
   "execution_count": 11,
   "metadata": {},
   "outputs": [],
   "source": [
    "poke_names = pokeSoup.select(\"td+ td .button\")"
   ]
  },
  {
   "cell_type": "code",
   "execution_count": 12,
   "metadata": {},
   "outputs": [
    {
     "data": {
      "text/plain": [
       "1307"
      ]
     },
     "execution_count": 12,
     "metadata": {},
     "output_type": "execute_result"
    }
   ],
   "source": [
    "poke_names_lst = []\n",
    "for name in poke_names:\n",
    "    poke_names_lst.append(name.string)\n",
    "len(poke_names_lst)"
   ]
  },
  {
   "cell_type": "code",
   "execution_count": null,
   "metadata": {},
   "outputs": [],
   "source": [
    "#the length of the list is far too long, the list seems to repeat for\n",
    "#daily, weekly, and monthly"
   ]
  },
  {
   "cell_type": "code",
   "execution_count": null,
   "metadata": {},
   "outputs": [],
   "source": [
    "#usages .per:nth-child(3)"
   ]
  },
  {
   "cell_type": "code",
   "execution_count": 14,
   "metadata": {},
   "outputs": [],
   "source": [
    "poke_usage = pokeSoup.select(\".per:nth-child(3)\")"
   ]
  },
  {
   "cell_type": "code",
   "execution_count": 32,
   "metadata": {},
   "outputs": [
    {
     "data": {
      "text/plain": [
       "1.76"
      ]
     },
     "execution_count": 32,
     "metadata": {},
     "output_type": "execute_result"
    }
   ],
   "source": [
    "poke_usage_lst = []\n",
    "for usage in poke_usage:\n",
    "    poke_usage_lst.append(float(usage.string))"
   ]
  },
  {
   "cell_type": "code",
   "execution_count": 34,
   "metadata": {},
   "outputs": [
    {
     "data": {
      "text/plain": [
       "1307"
      ]
     },
     "execution_count": 34,
     "metadata": {},
     "output_type": "execute_result"
    }
   ],
   "source": []
  },
  {
   "cell_type": "code",
   "execution_count": 203,
   "metadata": {},
   "outputs": [],
   "source": [
    "from sklearn.ensemble import RandomForestRegressor\n",
    "from sklearn.preprocessing import StandardScaler\n",
    "from sklearn.compose import ColumnTransformer\n",
    "from sklearn.ensemble import RandomForestClassifier\n",
    "from sklearn.metrics import accuracy_score, precision_score, recall_score, f1_score, confusion_matrix\n",
    "from sklearn.model_selection import train_test_split, GridSearchCV\n",
    "import category_encoders as ce"
   ]
  },
  {
   "cell_type": "code",
   "execution_count": 50,
   "metadata": {},
   "outputs": [],
   "source": []
  },
  {
   "cell_type": "code",
   "execution_count": 179,
   "metadata": {
    "scrolled": true
   },
   "outputs": [
    {
     "name": "stdout",
     "output_type": "stream",
     "text": [
      "             name         usage   type1     type2  BST   HP  ATK  DEF  SPA  \\\n",
      "0      Great_Tusk  141388 Teams  Ground  Fighting  570  115  131  131   53   \n",
      "1       Kingambit  109948 Teams    Dark     Steel  550  100  135  120   60   \n",
      "2       Gholdengo  100598 Teams   Steel     Ghost  550   87   60   95  133   \n",
      "3       Dragapult   77918 Teams  Dragon     Ghost  600   88  120   75  100   \n",
      "4    Iron_Valiant   75236 Teams   Fairy  Fighting  590   74  130   90  120   \n",
      "..            ...           ...     ...       ...  ...  ...  ...  ...  ...   \n",
      "190   Golem_Alola     734 Teams    Rock  Electric  495   80  120  130   55   \n",
      "191      Leavanny     718 Teams     Bug     Grass  500   75  103   80   70   \n",
      "192      Dusclops     706 Teams   Ghost      None  455   40   70  130   60   \n",
      "193    Houndstone     706 Teams   Ghost      None  488   72  101  100   50   \n",
      "194      Dragalge     686 Teams  Poison    Dragon  494   65   75   90   97   \n",
      "\n",
      "     SPD  SPE          item  \n",
      "0     53   87     Leftovers  \n",
      "1     85   50     Leftovers  \n",
      "2     91   84  Choice_Scarf  \n",
      "3     75  142  Choice_Specs  \n",
      "4     60  116  Choice_Specs  \n",
      "..   ...  ...           ...  \n",
      "190   65   45   Choice_Band  \n",
      "191   80   92    Focus_Sash  \n",
      "192  130   25      Eviolite  \n",
      "193   97   68      Life_Orb  \n",
      "194  123   44  Choice_Specs  \n",
      "\n",
      "[195 rows x 12 columns]\n"
     ]
    }
   ],
   "source": [
    "con = sqlite3.connect(\"pokemon.db\")\n",
    "df = pd.read_sql_query(\"SELECT * from poke_info\", con)\n",
    "con.close()"
   ]
  },
  {
   "cell_type": "code",
   "execution_count": 200,
   "metadata": {},
   "outputs": [
    {
     "data": {
      "text/html": [
       "<div>\n",
       "<style scoped>\n",
       "    .dataframe tbody tr th:only-of-type {\n",
       "        vertical-align: middle;\n",
       "    }\n",
       "\n",
       "    .dataframe tbody tr th {\n",
       "        vertical-align: top;\n",
       "    }\n",
       "\n",
       "    .dataframe thead th {\n",
       "        text-align: right;\n",
       "    }\n",
       "</style>\n",
       "<table border=\"1\" class=\"dataframe\">\n",
       "  <thead>\n",
       "    <tr style=\"text-align: right;\">\n",
       "      <th></th>\n",
       "      <th>name</th>\n",
       "      <th>usage</th>\n",
       "      <th>type1</th>\n",
       "      <th>type2</th>\n",
       "      <th>BST</th>\n",
       "      <th>HP</th>\n",
       "      <th>ATK</th>\n",
       "      <th>DEF</th>\n",
       "      <th>SPA</th>\n",
       "      <th>SPD</th>\n",
       "      <th>SPE</th>\n",
       "      <th>item</th>\n",
       "    </tr>\n",
       "  </thead>\n",
       "  <tbody>\n",
       "    <tr>\n",
       "      <th>0</th>\n",
       "      <td>Great_Tusk</td>\n",
       "      <td>141388</td>\n",
       "      <td>Ground</td>\n",
       "      <td>Fighting</td>\n",
       "      <td>570</td>\n",
       "      <td>115</td>\n",
       "      <td>131</td>\n",
       "      <td>131</td>\n",
       "      <td>53</td>\n",
       "      <td>53</td>\n",
       "      <td>87</td>\n",
       "      <td>Leftovers</td>\n",
       "    </tr>\n",
       "    <tr>\n",
       "      <th>1</th>\n",
       "      <td>Kingambit</td>\n",
       "      <td>109948</td>\n",
       "      <td>Dark</td>\n",
       "      <td>Steel</td>\n",
       "      <td>550</td>\n",
       "      <td>100</td>\n",
       "      <td>135</td>\n",
       "      <td>120</td>\n",
       "      <td>60</td>\n",
       "      <td>85</td>\n",
       "      <td>50</td>\n",
       "      <td>Leftovers</td>\n",
       "    </tr>\n",
       "    <tr>\n",
       "      <th>2</th>\n",
       "      <td>Gholdengo</td>\n",
       "      <td>100598</td>\n",
       "      <td>Steel</td>\n",
       "      <td>Ghost</td>\n",
       "      <td>550</td>\n",
       "      <td>87</td>\n",
       "      <td>60</td>\n",
       "      <td>95</td>\n",
       "      <td>133</td>\n",
       "      <td>91</td>\n",
       "      <td>84</td>\n",
       "      <td>Choice_Scarf</td>\n",
       "    </tr>\n",
       "    <tr>\n",
       "      <th>3</th>\n",
       "      <td>Dragapult</td>\n",
       "      <td>77918</td>\n",
       "      <td>Dragon</td>\n",
       "      <td>Ghost</td>\n",
       "      <td>600</td>\n",
       "      <td>88</td>\n",
       "      <td>120</td>\n",
       "      <td>75</td>\n",
       "      <td>100</td>\n",
       "      <td>75</td>\n",
       "      <td>142</td>\n",
       "      <td>Choice_Specs</td>\n",
       "    </tr>\n",
       "    <tr>\n",
       "      <th>4</th>\n",
       "      <td>Iron_Valiant</td>\n",
       "      <td>75236</td>\n",
       "      <td>Fairy</td>\n",
       "      <td>Fighting</td>\n",
       "      <td>590</td>\n",
       "      <td>74</td>\n",
       "      <td>130</td>\n",
       "      <td>90</td>\n",
       "      <td>120</td>\n",
       "      <td>60</td>\n",
       "      <td>116</td>\n",
       "      <td>Choice_Specs</td>\n",
       "    </tr>\n",
       "    <tr>\n",
       "      <th>...</th>\n",
       "      <td>...</td>\n",
       "      <td>...</td>\n",
       "      <td>...</td>\n",
       "      <td>...</td>\n",
       "      <td>...</td>\n",
       "      <td>...</td>\n",
       "      <td>...</td>\n",
       "      <td>...</td>\n",
       "      <td>...</td>\n",
       "      <td>...</td>\n",
       "      <td>...</td>\n",
       "      <td>...</td>\n",
       "    </tr>\n",
       "    <tr>\n",
       "      <th>193</th>\n",
       "      <td>Houndstone</td>\n",
       "      <td>706</td>\n",
       "      <td>Ghost</td>\n",
       "      <td>None</td>\n",
       "      <td>488</td>\n",
       "      <td>72</td>\n",
       "      <td>101</td>\n",
       "      <td>100</td>\n",
       "      <td>50</td>\n",
       "      <td>97</td>\n",
       "      <td>68</td>\n",
       "      <td>Life_Orb</td>\n",
       "    </tr>\n",
       "    <tr>\n",
       "      <th>194</th>\n",
       "      <td>Dragalge</td>\n",
       "      <td>686</td>\n",
       "      <td>Poison</td>\n",
       "      <td>Dragon</td>\n",
       "      <td>494</td>\n",
       "      <td>65</td>\n",
       "      <td>75</td>\n",
       "      <td>90</td>\n",
       "      <td>97</td>\n",
       "      <td>123</td>\n",
       "      <td>44</td>\n",
       "      <td>Choice_Specs</td>\n",
       "    </tr>\n",
       "    <tr>\n",
       "      <th>195</th>\n",
       "      <td>Walking_Wake</td>\n",
       "      <td>35698</td>\n",
       "      <td>Water</td>\n",
       "      <td>Dragon</td>\n",
       "      <td>590</td>\n",
       "      <td>99</td>\n",
       "      <td>83</td>\n",
       "      <td>91</td>\n",
       "      <td>125</td>\n",
       "      <td>83</td>\n",
       "      <td>109</td>\n",
       "      <td>Choice_Specs</td>\n",
       "    </tr>\n",
       "    <tr>\n",
       "      <th>196</th>\n",
       "      <td>Iron_Leaves</td>\n",
       "      <td>1536</td>\n",
       "      <td>Grass</td>\n",
       "      <td>Psychic</td>\n",
       "      <td>590</td>\n",
       "      <td>90</td>\n",
       "      <td>130</td>\n",
       "      <td>88</td>\n",
       "      <td>70</td>\n",
       "      <td>108</td>\n",
       "      <td>104</td>\n",
       "      <td>Life_orb</td>\n",
       "    </tr>\n",
       "    <tr>\n",
       "      <th>197</th>\n",
       "      <td>Zamazenta</td>\n",
       "      <td>30498</td>\n",
       "      <td>Fighting</td>\n",
       "      <td>None</td>\n",
       "      <td>660</td>\n",
       "      <td>92</td>\n",
       "      <td>120</td>\n",
       "      <td>115</td>\n",
       "      <td>80</td>\n",
       "      <td>115</td>\n",
       "      <td>138</td>\n",
       "      <td>Leftovers</td>\n",
       "    </tr>\n",
       "  </tbody>\n",
       "</table>\n",
       "<p>198 rows × 12 columns</p>\n",
       "</div>"
      ],
      "text/plain": [
       "             name   usage     type1     type2  BST   HP  ATK  DEF  SPA  SPD  \\\n",
       "0      Great_Tusk  141388    Ground  Fighting  570  115  131  131   53   53   \n",
       "1       Kingambit  109948      Dark     Steel  550  100  135  120   60   85   \n",
       "2       Gholdengo  100598     Steel     Ghost  550   87   60   95  133   91   \n",
       "3       Dragapult   77918    Dragon     Ghost  600   88  120   75  100   75   \n",
       "4    Iron_Valiant   75236     Fairy  Fighting  590   74  130   90  120   60   \n",
       "..            ...     ...       ...       ...  ...  ...  ...  ...  ...  ...   \n",
       "193    Houndstone     706     Ghost      None  488   72  101  100   50   97   \n",
       "194      Dragalge     686    Poison    Dragon  494   65   75   90   97  123   \n",
       "195  Walking_Wake   35698     Water    Dragon  590   99   83   91  125   83   \n",
       "196   Iron_Leaves    1536     Grass   Psychic  590   90  130   88   70  108   \n",
       "197     Zamazenta   30498  Fighting      None  660   92  120  115   80  115   \n",
       "\n",
       "     SPE          item  \n",
       "0     87     Leftovers  \n",
       "1     50     Leftovers  \n",
       "2     84  Choice_Scarf  \n",
       "3    142  Choice_Specs  \n",
       "4    116  Choice_Specs  \n",
       "..   ...           ...  \n",
       "193   68      Life_Orb  \n",
       "194   44  Choice_Specs  \n",
       "195  109  Choice_Specs  \n",
       "196  104      Life_orb  \n",
       "197  138     Leftovers  \n",
       "\n",
       "[198 rows x 12 columns]"
      ]
     },
     "execution_count": 200,
     "metadata": {},
     "output_type": "execute_result"
    }
   ],
   "source": [
    "df"
   ]
  },
  {
   "cell_type": "code",
   "execution_count": 199,
   "metadata": {},
   "outputs": [
    {
     "name": "stdout",
     "output_type": "stream",
     "text": [
      "<class 'pandas.core.frame.DataFrame'>\n",
      "Int64Index: 198 entries, 0 to 197\n",
      "Data columns (total 12 columns):\n",
      " #   Column  Non-Null Count  Dtype \n",
      "---  ------  --------------  ----- \n",
      " 0   name    198 non-null    object\n",
      " 1   usage   198 non-null    int64 \n",
      " 2   type1   198 non-null    object\n",
      " 3   type2   198 non-null    object\n",
      " 4   BST     198 non-null    int64 \n",
      " 5   HP      198 non-null    int64 \n",
      " 6   ATK     198 non-null    int64 \n",
      " 7   DEF     198 non-null    int64 \n",
      " 8   SPA     198 non-null    int64 \n",
      " 9   SPD     198 non-null    int64 \n",
      " 10  SPE     198 non-null    int64 \n",
      " 11  item    198 non-null    object\n",
      "dtypes: int64(8), object(4)\n",
      "memory usage: 20.1+ KB\n"
     ]
    }
   ],
   "source": [
    "df.info()"
   ]
  },
  {
   "cell_type": "code",
   "execution_count": 182,
   "metadata": {},
   "outputs": [],
   "source": [
    "df.loc[195] = [\"Walking_Wake\", \"35698 Teams\", \"Water\", \"Dragon\", 590,99,83,91,125,83,109, \"Choice_Specs\"]\n"
   ]
  },
  {
   "cell_type": "code",
   "execution_count": 188,
   "metadata": {},
   "outputs": [],
   "source": [
    "df.loc[196] = [\"Iron_Leaves\", \"1536 Teams\", \"Grass\", \"Psychic\", 590,90,130,88,70,108,104, \"Life_orb\"]"
   ]
  },
  {
   "cell_type": "code",
   "execution_count": 190,
   "metadata": {},
   "outputs": [],
   "source": [
    "df.loc[197] = [\"Zamazenta\", \"30498 Teams\", \"Fighting\", \"None\", 660,92,120,115,80,115,138, \"Leftovers\"]"
   ]
  },
  {
   "cell_type": "code",
   "execution_count": 194,
   "metadata": {},
   "outputs": [],
   "source": [
    "df['usage'] = df['usage'].str.replace('\\D', '', regex=True)\n",
    "df['usage'] = pd.to_numeric(df['usage'])"
   ]
  },
  {
   "cell_type": "code",
   "execution_count": 208,
   "metadata": {},
   "outputs": [
    {
     "data": {
      "text/plain": [
       "array(['Leftovers', 'Choice_Scarf', 'Choice_Specs', 'Wellspring_Mask',\n",
       "       'Heavy_Duty_Boots', 'Choice_Band', 'Rocky_Helmet', 'Life_Orb',\n",
       "       'Focus_Sash', 'Light_Clay', 'Heat_Rock', 'Cornerstone_Mask',\n",
       "       'Damp_Rock', 'Assault_Vest', 'Flame_Orb', 'Loaded_Dice',\n",
       "       'Wide_Lens', 'Sitrus_Berry', 'Black_Sludge', 'Terrain_Extender',\n",
       "       'Leppa_Berry', 'Quick_Claw', 'Silk_Scarf', 'Weakness_Policy',\n",
       "       'Eviolite', 'Scope_Lens', 'Throat_Spray', 'Toxic_Orb', 'Life_orb'],\n",
       "      dtype=object)"
      ]
     },
     "execution_count": 208,
     "metadata": {},
     "output_type": "execute_result"
    }
   ],
   "source": [
    "df[\"item\"].unique()"
   ]
  },
  {
   "cell_type": "code",
   "execution_count": null,
   "metadata": {},
   "outputs": [],
   "source": []
  },
  {
   "cell_type": "code",
   "execution_count": 201,
   "metadata": {},
   "outputs": [],
   "source": [
    "X = df.drop([\"usage\"], axis=1)\n",
    "y = df[\"usage\"]"
   ]
  },
  {
   "cell_type": "code",
   "execution_count": 205,
   "metadata": {},
   "outputs": [],
   "source": [
    "X_train, X_test, y_train, y_test = train_test_split(X, y, test_size=0.25, random_state=42, shuffle=True)"
   ]
  },
  {
   "cell_type": "code",
   "execution_count": null,
   "metadata": {
    "scrolled": true
   },
   "outputs": [],
   "source": [
    "columns_to_scale = ['usage','BST','HP','ATK','DEF','SPA','SPD','SPE']\n",
    "\n",
    "columns_no_scale = [col for col in X_train.columns if col not in columns_to_scale]\n",
    "\n",
    "preprocessor = ColumnTransformer(\n",
    "    transformers=[\n",
    "        ('scaler', StandardScaler(), columns_to_scale),\n",
    "        ('no_scaler', 'passthrough', columns_no_scale)\n",
    "    ]\n",
    ")"
   ]
  },
  {
   "cell_type": "code",
   "execution_count": null,
   "metadata": {},
   "outputs": [],
   "source": [
    "# cols = X_train.columns\n",
    "X_train = preprocessor.fit_transform(X_train)\n",
    "X_test = preprocessor.transform(X_test)"
   ]
  },
  {
   "cell_type": "code",
   "execution_count": null,
   "metadata": {},
   "outputs": [],
   "source": [
    "X_train = pd.DataFrame(X_train, columns=columns_to_scale + columns_no_scale)\n",
    "X_test = pd.DataFrame(X_test, columns=columns_to_scale + columns_no_scale)"
   ]
  },
  {
   "cell_type": "code",
   "execution_count": null,
   "metadata": {},
   "outputs": [],
   "source": []
  },
  {
   "cell_type": "code",
   "execution_count": null,
   "metadata": {},
   "outputs": [],
   "source": []
  },
  {
   "cell_type": "code",
   "execution_count": null,
   "metadata": {},
   "outputs": [],
   "source": [
    "accuracy = accuracy_score(y_test, y_pred)\n",
    "precision = precision_score(y_test, y_pred, average='binary')\n",
    "recall = recall_score(y_test, y_pred, average='binary')\n",
    "f1 = f1_score(y_test, y_pred, average='binary')\n",
    "\n",
    "print(f'Accuracy: {accuracy:.2f}')\n",
    "print(f'Precision: {precision:.2f}')\n",
    "print(f'Recall: {recall:.2f}')\n",
    "print(f'F1 Score: {f1:.2f}')"
   ]
  }
 ],
 "metadata": {
  "interpreter": {
   "hash": "aee8b7b246df8f9039afb4144a1f6fd8d2ca17a180786b69acc140d282b71a49"
  },
  "kernelspec": {
   "display_name": "Python 3 (ipykernel)",
   "language": "python",
   "name": "python3"
  },
  "language_info": {
   "codemirror_mode": {
    "name": "ipython",
    "version": 3
   },
   "file_extension": ".py",
   "mimetype": "text/x-python",
   "name": "python",
   "nbconvert_exporter": "python",
   "pygments_lexer": "ipython3",
   "version": "3.11.4"
  }
 },
 "nbformat": 4,
 "nbformat_minor": 2
}
