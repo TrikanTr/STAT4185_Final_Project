{
 "cells": [
  {
   "cell_type": "code",
   "execution_count": 1,
   "metadata": {},
   "outputs": [],
   "source": [
    "import requests\n",
    "from bs4 import BeautifulSoup as bs"
   ]
  },
  {
   "cell_type": "code",
   "execution_count": 34,
   "metadata": {},
   "outputs": [],
   "source": [
    "import requests\n",
    "from selenium import webdriver\n",
    "from selenium.webdriver.chrome.service import Service\n",
    "from selenium.common.exceptions import NoSuchElementException\n",
    "from selenium.common.exceptions import StaleElementReferenceException\n",
    "from selenium.webdriver.support.ui import WebDriverWait\n",
    "from selenium.webdriver.support import expected_conditions\n",
    "from selenium.webdriver.common.by import By\n",
    "from selenium.webdriver.common.keys import Keys\n",
    "from selenium.webdriver.common.action_chains import ActionChains\n",
    "import time\n",
    "import sqlite3\n"
   ]
  },
  {
   "cell_type": "code",
   "execution_count": 37,
   "metadata": {},
   "outputs": [],
   "source": [
    "from sklearn.ensemble import RandomForestRegressor\n",
    "from sklearn.preprocessing import StandardScaler\n",
    "from sklearn.compose import ColumnTransformer\n",
    "from sklearn.ensemble import RandomForestClassifier\n",
    "from sklearn.metrics import accuracy_score, precision_score, recall_score, f1_score, confusion_matrix\n",
    "from sklearn.model_selection import train_test_split, GridSearchCV\n",
    "import numpy as np\n",
    "import pandas as pd\n",
    "import matplotlib.pyplot as plt\n",
    "from sklearn.linear_model import LinearRegression\n",
    "from sklearn.linear_model import LogisticRegression"
   ]
  },
  {
   "cell_type": "code",
   "execution_count": 5,
   "metadata": {},
   "outputs": [
    {
     "name": "stdout",
     "output_type": "stream",
     "text": [
      "             name         usage   type1     type2  BST   HP  ATK  DEF  SPA  \\\n",
      "0      Great_Tusk  141388 Teams  Ground  Fighting  570  115  131  131   53   \n",
      "1       Kingambit  109948 Teams    Dark     Steel  550  100  135  120   60   \n",
      "2       Gholdengo  100598 Teams   Steel     Ghost  550   87   60   95  133   \n",
      "3       Dragapult   77918 Teams  Dragon     Ghost  600   88  120   75  100   \n",
      "4    Iron_Valiant   75236 Teams   Fairy  Fighting  590   74  130   90  120   \n",
      "..            ...           ...     ...       ...  ...  ...  ...  ...  ...   \n",
      "190   Golem_Alola     734 Teams    Rock  Electric  495   80  120  130   55   \n",
      "191      Leavanny     718 Teams     Bug     Grass  500   75  103   80   70   \n",
      "192      Dusclops     706 Teams   Ghost      None  455   40   70  130   60   \n",
      "193    Houndstone     706 Teams   Ghost      None  488   72  101  100   50   \n",
      "194      Dragalge     686 Teams  Poison    Dragon  494   65   75   90   97   \n",
      "\n",
      "     SPD  SPE          item  \n",
      "0     53   87     Leftovers  \n",
      "1     85   50     Leftovers  \n",
      "2     91   84  Choice_Scarf  \n",
      "3     75  142  Choice_Specs  \n",
      "4     60  116  Choice_Specs  \n",
      "..   ...  ...           ...  \n",
      "190   65   45   Choice_Band  \n",
      "191   80   92    Focus_Sash  \n",
      "192  130   25      Eviolite  \n",
      "193   97   68      Life_Orb  \n",
      "194  123   44  Choice_Specs  \n",
      "\n",
      "[195 rows x 12 columns]\n"
     ]
    }
   ],
   "source": [
    "con = sqlite3.connect(\"pokemon.db\")\n",
    "df = pd.read_sql_query(\"SELECT * from poke_info\", con)\n",
    "\n",
    "print(df)\n",
    "\n",
    "con.close()"
   ]
  },
  {
   "cell_type": "code",
   "execution_count": 6,
   "metadata": {},
   "outputs": [],
   "source": [
    "df.loc[195] = [\"Walking_Wake\", \"36426 Teams\", \"Water\", \"Dragon\", 590, 99, 83, 91, 125, 83, 109, \"Choice_Specs\"]"
   ]
  },
  {
   "cell_type": "code",
   "execution_count": 7,
   "metadata": {},
   "outputs": [],
   "source": [
    "df.loc[196] = [\"Zamazenta\", \"30498 Teams\", \"Fighting\", \"None\", 660, 92, 120, 115, 80, 115, 138, \"Leftovers\"]"
   ]
  },
  {
   "cell_type": "code",
   "execution_count": 8,
   "metadata": {},
   "outputs": [],
   "source": [
    "df.loc[197] = [\"Iron_Leaves\", \"1574 Teams\",\"Grass\", \"Psychic\", 590, 90, 130, 88, 70, 108, 104, \"Choice_Band\"]"
   ]
  },
  {
   "cell_type": "code",
   "execution_count": 56,
   "metadata": {},
   "outputs": [
    {
     "data": {
      "text/html": [
       "<div>\n",
       "<style scoped>\n",
       "    .dataframe tbody tr th:only-of-type {\n",
       "        vertical-align: middle;\n",
       "    }\n",
       "\n",
       "    .dataframe tbody tr th {\n",
       "        vertical-align: top;\n",
       "    }\n",
       "\n",
       "    .dataframe thead th {\n",
       "        text-align: right;\n",
       "    }\n",
       "</style>\n",
       "<table border=\"1\" class=\"dataframe\">\n",
       "  <thead>\n",
       "    <tr style=\"text-align: right;\">\n",
       "      <th></th>\n",
       "      <th>name</th>\n",
       "      <th>usage</th>\n",
       "      <th>type1</th>\n",
       "      <th>type2</th>\n",
       "      <th>BST</th>\n",
       "      <th>HP</th>\n",
       "      <th>ATK</th>\n",
       "      <th>DEF</th>\n",
       "      <th>SPA</th>\n",
       "      <th>SPD</th>\n",
       "      <th>SPE</th>\n",
       "      <th>item</th>\n",
       "      <th>usage_gt_0.5</th>\n",
       "    </tr>\n",
       "  </thead>\n",
       "  <tbody>\n",
       "    <tr>\n",
       "      <th>0</th>\n",
       "      <td>Great_Tusk</td>\n",
       "      <td>6.181993</td>\n",
       "      <td>Ground</td>\n",
       "      <td>Fighting</td>\n",
       "      <td>570</td>\n",
       "      <td>115</td>\n",
       "      <td>131</td>\n",
       "      <td>131</td>\n",
       "      <td>53</td>\n",
       "      <td>53</td>\n",
       "      <td>87</td>\n",
       "      <td>Leftovers</td>\n",
       "      <td>True</td>\n",
       "    </tr>\n",
       "    <tr>\n",
       "      <th>1</th>\n",
       "      <td>Kingambit</td>\n",
       "      <td>4.807323</td>\n",
       "      <td>Dark</td>\n",
       "      <td>Steel</td>\n",
       "      <td>550</td>\n",
       "      <td>100</td>\n",
       "      <td>135</td>\n",
       "      <td>120</td>\n",
       "      <td>60</td>\n",
       "      <td>85</td>\n",
       "      <td>50</td>\n",
       "      <td>Leftovers</td>\n",
       "      <td>True</td>\n",
       "    </tr>\n",
       "    <tr>\n",
       "      <th>2</th>\n",
       "      <td>Gholdengo</td>\n",
       "      <td>4.398507</td>\n",
       "      <td>Steel</td>\n",
       "      <td>Ghost</td>\n",
       "      <td>550</td>\n",
       "      <td>87</td>\n",
       "      <td>60</td>\n",
       "      <td>95</td>\n",
       "      <td>133</td>\n",
       "      <td>91</td>\n",
       "      <td>84</td>\n",
       "      <td>Choice_Scarf</td>\n",
       "      <td>True</td>\n",
       "    </tr>\n",
       "    <tr>\n",
       "      <th>3</th>\n",
       "      <td>Dragapult</td>\n",
       "      <td>3.406856</td>\n",
       "      <td>Dragon</td>\n",
       "      <td>Ghost</td>\n",
       "      <td>600</td>\n",
       "      <td>88</td>\n",
       "      <td>120</td>\n",
       "      <td>75</td>\n",
       "      <td>100</td>\n",
       "      <td>75</td>\n",
       "      <td>142</td>\n",
       "      <td>Choice_Specs</td>\n",
       "      <td>True</td>\n",
       "    </tr>\n",
       "    <tr>\n",
       "      <th>4</th>\n",
       "      <td>Iron_Valiant</td>\n",
       "      <td>3.289589</td>\n",
       "      <td>Fairy</td>\n",
       "      <td>Fighting</td>\n",
       "      <td>590</td>\n",
       "      <td>74</td>\n",
       "      <td>130</td>\n",
       "      <td>90</td>\n",
       "      <td>120</td>\n",
       "      <td>60</td>\n",
       "      <td>116</td>\n",
       "      <td>Choice_Specs</td>\n",
       "      <td>True</td>\n",
       "    </tr>\n",
       "    <tr>\n",
       "      <th>...</th>\n",
       "      <td>...</td>\n",
       "      <td>...</td>\n",
       "      <td>...</td>\n",
       "      <td>...</td>\n",
       "      <td>...</td>\n",
       "      <td>...</td>\n",
       "      <td>...</td>\n",
       "      <td>...</td>\n",
       "      <td>...</td>\n",
       "      <td>...</td>\n",
       "      <td>...</td>\n",
       "      <td>...</td>\n",
       "      <td>...</td>\n",
       "    </tr>\n",
       "    <tr>\n",
       "      <th>193</th>\n",
       "      <td>Houndstone</td>\n",
       "      <td>0.030869</td>\n",
       "      <td>Ghost</td>\n",
       "      <td>None</td>\n",
       "      <td>488</td>\n",
       "      <td>72</td>\n",
       "      <td>101</td>\n",
       "      <td>100</td>\n",
       "      <td>50</td>\n",
       "      <td>97</td>\n",
       "      <td>68</td>\n",
       "      <td>Life_Orb</td>\n",
       "      <td>False</td>\n",
       "    </tr>\n",
       "    <tr>\n",
       "      <th>194</th>\n",
       "      <td>Dragalge</td>\n",
       "      <td>0.029994</td>\n",
       "      <td>Poison</td>\n",
       "      <td>Dragon</td>\n",
       "      <td>494</td>\n",
       "      <td>65</td>\n",
       "      <td>75</td>\n",
       "      <td>90</td>\n",
       "      <td>97</td>\n",
       "      <td>123</td>\n",
       "      <td>44</td>\n",
       "      <td>Choice_Specs</td>\n",
       "      <td>False</td>\n",
       "    </tr>\n",
       "    <tr>\n",
       "      <th>195</th>\n",
       "      <td>Walking_Wake</td>\n",
       "      <td>1.592676</td>\n",
       "      <td>Water</td>\n",
       "      <td>Dragon</td>\n",
       "      <td>590</td>\n",
       "      <td>99</td>\n",
       "      <td>83</td>\n",
       "      <td>91</td>\n",
       "      <td>125</td>\n",
       "      <td>83</td>\n",
       "      <td>109</td>\n",
       "      <td>Choice_Specs</td>\n",
       "      <td>True</td>\n",
       "    </tr>\n",
       "    <tr>\n",
       "      <th>196</th>\n",
       "      <td>Zamazenta</td>\n",
       "      <td>1.333483</td>\n",
       "      <td>Fighting</td>\n",
       "      <td>None</td>\n",
       "      <td>660</td>\n",
       "      <td>92</td>\n",
       "      <td>120</td>\n",
       "      <td>115</td>\n",
       "      <td>80</td>\n",
       "      <td>115</td>\n",
       "      <td>138</td>\n",
       "      <td>Leftovers</td>\n",
       "      <td>True</td>\n",
       "    </tr>\n",
       "    <tr>\n",
       "      <th>197</th>\n",
       "      <td>Iron_Leaves</td>\n",
       "      <td>0.068821</td>\n",
       "      <td>Grass</td>\n",
       "      <td>Psychic</td>\n",
       "      <td>590</td>\n",
       "      <td>90</td>\n",
       "      <td>130</td>\n",
       "      <td>88</td>\n",
       "      <td>70</td>\n",
       "      <td>108</td>\n",
       "      <td>104</td>\n",
       "      <td>Choice_Band</td>\n",
       "      <td>False</td>\n",
       "    </tr>\n",
       "  </tbody>\n",
       "</table>\n",
       "<p>198 rows × 13 columns</p>\n",
       "</div>"
      ],
      "text/plain": [
       "             name     usage     type1     type2  BST   HP  ATK  DEF  SPA  SPD  \\\n",
       "0      Great_Tusk  6.181993    Ground  Fighting  570  115  131  131   53   53   \n",
       "1       Kingambit  4.807323      Dark     Steel  550  100  135  120   60   85   \n",
       "2       Gholdengo  4.398507     Steel     Ghost  550   87   60   95  133   91   \n",
       "3       Dragapult  3.406856    Dragon     Ghost  600   88  120   75  100   75   \n",
       "4    Iron_Valiant  3.289589     Fairy  Fighting  590   74  130   90  120   60   \n",
       "..            ...       ...       ...       ...  ...  ...  ...  ...  ...  ...   \n",
       "193    Houndstone  0.030869     Ghost      None  488   72  101  100   50   97   \n",
       "194      Dragalge  0.029994    Poison    Dragon  494   65   75   90   97  123   \n",
       "195  Walking_Wake  1.592676     Water    Dragon  590   99   83   91  125   83   \n",
       "196     Zamazenta  1.333483  Fighting      None  660   92  120  115   80  115   \n",
       "197   Iron_Leaves  0.068821     Grass   Psychic  590   90  130   88   70  108   \n",
       "\n",
       "     SPE          item  usage_gt_0.5  \n",
       "0     87     Leftovers          True  \n",
       "1     50     Leftovers          True  \n",
       "2     84  Choice_Scarf          True  \n",
       "3    142  Choice_Specs          True  \n",
       "4    116  Choice_Specs          True  \n",
       "..   ...           ...           ...  \n",
       "193   68      Life_Orb         False  \n",
       "194   44  Choice_Specs         False  \n",
       "195  109  Choice_Specs          True  \n",
       "196  138     Leftovers          True  \n",
       "197  104   Choice_Band         False  \n",
       "\n",
       "[198 rows x 13 columns]"
      ]
     },
     "execution_count": 56,
     "metadata": {},
     "output_type": "execute_result"
    }
   ],
   "source": [
    "df"
   ]
  },
  {
   "cell_type": "code",
   "execution_count": 14,
   "metadata": {},
   "outputs": [
    {
     "name": "stdout",
     "output_type": "stream",
     "text": [
      "<class 'pandas.core.frame.DataFrame'>\n",
      "Int64Index: 198 entries, 0 to 197\n",
      "Data columns (total 12 columns):\n",
      " #   Column  Non-Null Count  Dtype \n",
      "---  ------  --------------  ----- \n",
      " 0   name    198 non-null    object\n",
      " 1   usage   198 non-null    int64 \n",
      " 2   type1   198 non-null    object\n",
      " 3   type2   198 non-null    object\n",
      " 4   BST     198 non-null    int64 \n",
      " 5   HP      198 non-null    int64 \n",
      " 6   ATK     198 non-null    int64 \n",
      " 7   DEF     198 non-null    int64 \n",
      " 8   SPA     198 non-null    int64 \n",
      " 9   SPD     198 non-null    int64 \n",
      " 10  SPE     198 non-null    int64 \n",
      " 11  item    198 non-null    object\n",
      "dtypes: int64(8), object(4)\n",
      "memory usage: 28.2+ KB\n"
     ]
    }
   ],
   "source": [
    "df.info()"
   ]
  },
  {
   "cell_type": "code",
   "execution_count": 9,
   "metadata": {},
   "outputs": [],
   "source": [
    "df['usage'] = df['usage'].str.replace('\\D', '', regex=True)"
   ]
  },
  {
   "cell_type": "code",
   "execution_count": 10,
   "metadata": {},
   "outputs": [],
   "source": [
    "df['usage'] = pd.to_numeric(df['usage'])"
   ]
  },
  {
   "cell_type": "code",
   "execution_count": 11,
   "metadata": {},
   "outputs": [],
   "source": [
    "df['usage'] = df['usage']/df['usage'].sum() * 100"
   ]
  },
  {
   "cell_type": "code",
   "execution_count": 12,
   "metadata": {},
   "outputs": [],
   "source": [
    "df[\"usage_gt_0.5\"] = df[\"usage\"] > 0.5"
   ]
  },
  {
   "cell_type": "code",
   "execution_count": 13,
   "metadata": {},
   "outputs": [],
   "source": [
    "X_lin = df[\"BST\"]\n",
    "Y_lin = df[\"usage\"].array"
   ]
  },
  {
   "cell_type": "code",
   "execution_count": 14,
   "metadata": {},
   "outputs": [
    {
     "data": {
      "image/png": "[encoded data removed]",
      "text/plain": [
       "<Figure size 640x480 with 1 Axes>"
      ]
     },
     "metadata": {},
     "output_type": "display_data"
    }
   ],
   "source": [
    "plt.scatter(X_lin, Y_lin)\n",
    "plt.show()"
   ]
  },
  {
   "cell_type": "code",
   "execution_count": 14,
   "metadata": {},
   "outputs": [],
   "source": []
  },
  {
   "cell_type": "code",
   "execution_count": null,
   "metadata": {},
   "outputs": [],
   "source": []
  },
  {
   "cell_type": "code",
   "execution_count": null,
   "metadata": {},
   "outputs": [],
   "source": []
  },
  {
   "cell_type": "code",
   "execution_count": null,
   "metadata": {},
   "outputs": [],
   "source": []
  },
  {
   "cell_type": "code",
   "execution_count": null,
   "metadata": {},
   "outputs": [],
   "source": []
  },
  {
   "cell_type": "code",
   "execution_count": 16,
   "metadata": {},
   "outputs": [],
   "source": [
    "columns_to_scale = ['BST','HP','ATK', 'DEF', 'SPA', 'SPD','SPE']\n",
    "X = df[columns_to_scale]\n",
    "y = df[\"usage_gt_0.5\"]\n",
    "\n",
    "columns_no_scale = [col for col in X.columns if col not in columns_to_scale]"
   ]
  },
  {
   "cell_type": "code",
   "execution_count": 24,
   "metadata": {},
   "outputs": [],
   "source": [
    "X_train, X_test, y_train, y_test = train_test_split(X, y, test_size=0.25, random_state=42, shuffle=True, stratify=y)"
   ]
  },
  {
   "cell_type": "code",
   "execution_count": 25,
   "metadata": {},
   "outputs": [],
   "source": [
    "preprocessor = ColumnTransformer(\n",
    "    transformers=[\n",
    "        ('scaler', StandardScaler(), columns_to_scale)\n",
    "    ]\n",
    ")"
   ]
  },
  {
   "cell_type": "code",
   "execution_count": null,
   "metadata": {},
   "outputs": [],
   "source": []
  },
  {
   "cell_type": "code",
   "execution_count": 26,
   "metadata": {},
   "outputs": [],
   "source": [
    "X_train = preprocessor.fit_transform(X_train)\n",
    "X_test = preprocessor.transform(X_test)"
   ]
  },
  {
   "cell_type": "code",
   "execution_count": 27,
   "metadata": {},
   "outputs": [],
   "source": [
    "X_train = pd.DataFrame(X_train, columns=columns_to_scale)\n",
    "X_test = pd.DataFrame(X_test, columns=columns_to_scale)"
   ]
  },
  {
   "cell_type": "code",
   "execution_count": 28,
   "metadata": {},
   "outputs": [
    {
     "data": {
      "text/html": [
       "<style>#sk-container-id-2 {color: black;}#sk-container-id-2 pre{padding: 0;}#sk-container-id-2 div.sk-toggleable {background-color: white;}#sk-container-id-2 label.sk-toggleable__label {cursor: pointer;display: block;width: 100%;margin-bottom: 0;padding: 0.3em;box-sizing: border-box;text-align: center;}#sk-container-id-2 label.sk-toggleable__label-arrow:before {content: \"▸\";float: left;margin-right: 0.25em;color: #696969;}#sk-container-id-2 label.sk-toggleable__label-arrow:hover:before {color: black;}#sk-container-id-2 div.sk-estimator:hover label.sk-toggleable__label-arrow:before {color: black;}#sk-container-id-2 div.sk-toggleable__content {max-height: 0;max-width: 0;overflow: hidden;text-align: left;background-color: #f0f8ff;}#sk-container-id-2 div.sk-toggleable__content pre {margin: 0.2em;color: black;border-radius: 0.25em;background-color: #f0f8ff;}#sk-container-id-2 input.sk-toggleable__control:checked~div.sk-toggleable__content {max-height: 200px;max-width: 100%;overflow: auto;}#sk-container-id-2 input.sk-toggleable__control:checked~label.sk-toggleable__label-arrow:before {content: \"▾\";}#sk-container-id-2 div.sk-estimator input.sk-toggleable__control:checked~label.sk-toggleable__label {background-color: #d4ebff;}#sk-container-id-2 div.sk-label input.sk-toggleable__control:checked~label.sk-toggleable__label {background-color: #d4ebff;}#sk-container-id-2 input.sk-hidden--visually {border: 0;clip: rect(1px 1px 1px 1px);clip: rect(1px, 1px, 1px, 1px);height: 1px;margin: -1px;overflow: hidden;padding: 0;position: absolute;width: 1px;}#sk-container-id-2 div.sk-estimator {font-family: monospace;background-color: #f0f8ff;border: 1px dotted black;border-radius: 0.25em;box-sizing: border-box;margin-bottom: 0.5em;}#sk-container-id-2 div.sk-estimator:hover {background-color: #d4ebff;}#sk-container-id-2 div.sk-parallel-item::after {content: \"\";width: 100%;border-bottom: 1px solid gray;flex-grow: 1;}#sk-container-id-2 div.sk-label:hover label.sk-toggleable__label {background-color: #d4ebff;}#sk-container-id-2 div.sk-serial::before {content: \"\";position: absolute;border-left: 1px solid gray;box-sizing: border-box;top: 0;bottom: 0;left: 50%;z-index: 0;}#sk-container-id-2 div.sk-serial {display: flex;flex-direction: column;align-items: center;background-color: white;padding-right: 0.2em;padding-left: 0.2em;position: relative;}#sk-container-id-2 div.sk-item {position: relative;z-index: 1;}#sk-container-id-2 div.sk-parallel {display: flex;align-items: stretch;justify-content: center;background-color: white;position: relative;}#sk-container-id-2 div.sk-item::before, #sk-container-id-2 div.sk-parallel-item::before {content: \"\";position: absolute;border-left: 1px solid gray;box-sizing: border-box;top: 0;bottom: 0;left: 50%;z-index: -1;}#sk-container-id-2 div.sk-parallel-item {display: flex;flex-direction: column;z-index: 1;position: relative;background-color: white;}#sk-container-id-2 div.sk-parallel-item:first-child::after {align-self: flex-end;width: 50%;}#sk-container-id-2 div.sk-parallel-item:last-child::after {align-self: flex-start;width: 50%;}#sk-container-id-2 div.sk-parallel-item:only-child::after {width: 0;}#sk-container-id-2 div.sk-dashed-wrapped {border: 1px dashed gray;margin: 0 0.4em 0.5em 0.4em;box-sizing: border-box;padding-bottom: 0.4em;background-color: white;}#sk-container-id-2 div.sk-label label {font-family: monospace;font-weight: bold;display: inline-block;line-height: 1.2em;}#sk-container-id-2 div.sk-label-container {text-align: center;}#sk-container-id-2 div.sk-container {/* jupyter's `normalize.less` sets `[hidden] { display: none; }` but bootstrap.min.css set `[hidden] { display: none !important; }` so we also need the `!important` here to be able to override the default hidden behavior on the sphinx rendered scikit-learn.org. See: https://github.com/scikit-learn/scikit-learn/issues/21755 */display: inline-block !important;position: relative;}#sk-container-id-2 div.sk-text-repr-fallback {display: none;}</style><div id=\"sk-container-id-2\" class=\"sk-top-container\"><div class=\"sk-text-repr-fallback\"><pre>RandomForestClassifier()</pre><b>In a Jupyter environment, please rerun this cell to show the HTML representation or trust the notebook. <br />On GitHub, the HTML representation is unable to render, please try loading this page with nbviewer.org.</b></div><div class=\"sk-container\" hidden><div class=\"sk-item\"><div class=\"sk-estimator sk-toggleable\"><input class=\"sk-toggleable__control sk-hidden--visually\" id=\"sk-estimator-id-2\" type=\"checkbox\" checked><label for=\"sk-estimator-id-2\" class=\"sk-toggleable__label sk-toggleable__label-arrow\">RandomForestClassifier</label><div class=\"sk-toggleable__content\"><pre>RandomForestClassifier()</pre></div></div></div></div></div>"
      ],
      "text/plain": [
       "RandomForestClassifier()"
      ]
     },
     "execution_count": 28,
     "metadata": {},
     "output_type": "execute_result"
    }
   ],
   "source": [
    "rf_classifier = RandomForestClassifier()\n",
    "rf_classifier.fit(X_train, y_train)"
   ]
  },
  {
   "cell_type": "code",
   "execution_count": 29,
   "metadata": {},
   "outputs": [],
   "source": [
    "y_pred = rf_classifier.predict(X_test)"
   ]
  },
  {
   "cell_type": "code",
   "execution_count": 30,
   "metadata": {},
   "outputs": [
    {
     "name": "stdout",
     "output_type": "stream",
     "text": [
      "Accuracy: 0.72\n",
      "Precision: 0.40\n",
      "Recall: 0.15\n",
      "F1 Score: 0.22\n"
     ]
    }
   ],
   "source": [
    "accuracy = accuracy_score(y_test, y_pred)\n",
    "precision = precision_score(y_test, y_pred, average='binary')\n",
    "recall = recall_score(y_test, y_pred, average='binary')\n",
    "f1 = f1_score(y_test, y_pred, average='binary')\n",
    "\n",
    "print(f'Accuracy: {accuracy:.2f}')\n",
    "print(f'Precision: {precision:.2f}')\n",
    "print(f'Recall: {recall:.2f}')\n",
    "print(f'F1 Score: {f1:.2f}')"
   ]
  },
  {
   "cell_type": "code",
   "execution_count": 40,
   "metadata": {},
   "outputs": [],
   "source": [
    "from sklearn.metrics import r2_score"
   ]
  },
  {
   "cell_type": "code",
   "execution_count": 41,
   "metadata": {},
   "outputs": [
    {
     "name": "stdout",
     "output_type": "stream",
     "text": [
      "[ 0.00480055  0.00306801 -0.00212613  0.00562014 -0.00035603 -0.00471785\n",
      "  0.0033124 ]\n"
     ]
    },
    {
     "data": {
      "text/plain": [
       "0.04375696373539961"
      ]
     },
     "execution_count": 41,
     "metadata": {},
     "output_type": "execute_result"
    }
   ],
   "source": [
    "#linear regression models\n",
    "y_use_raw = df[\"usage\"] #for regression modeling\n",
    "X_usage_train, X_usage_test, y_usage_train, y_usage_test = train_test_split(X, y_use_raw, test_size=0.25, random_state=42, shuffle=True)\n",
    "regr = LinearRegression()\n",
    "regr.fit(X_usage_train, y_usage_train)\n",
    "print(regr.coef_)\n",
    "\n",
    "predict_usage = regr.predict(X_usage_test)\n",
    "\n",
    "#calculate r^2 of the model\n",
    "r2_score(y_usage_test, predict_usage)\n"
   ]
  },
  {
   "cell_type": "code",
   "execution_count": null,
   "metadata": {},
   "outputs": [],
   "source": [
    "df.to_csv('poke_info_final.csv', index=False)"
   ]
  },
  {
   "cell_type": "code",
   "execution_count": null,
   "metadata": {},
   "outputs": [],
   "source": []
  },
  {
   "cell_type": "code",
   "execution_count": null,
   "metadata": {},
   "outputs": [],
   "source": []
  }
 ],
 "metadata": {
  "interpreter": {
   "hash": "aee8b7b246df8f9039afb4144a1f6fd8d2ca17a180786b69acc140d282b71a49"
  },
  "kernelspec": {
   "display_name": "Python 3 (ipykernel)",
   "language": "python",
   "name": "python3"
  },
  "language_info": {
   "codemirror_mode": {
    "name": "ipython",
    "version": 3
   },
   "file_extension": ".py",
   "mimetype": "text/x-python",
   "name": "python",
   "nbconvert_exporter": "python",
   "pygments_lexer": "ipython3",
   "version": "3.11.4"
  }
 },
 "nbformat": 4,
 "nbformat_minor": 2
}
